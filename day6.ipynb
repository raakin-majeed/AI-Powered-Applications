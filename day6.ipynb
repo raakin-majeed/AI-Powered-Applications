{
 "cells": [
  {
   "cell_type": "markdown",
   "id": "9afd1a27-a271-4e39-a210-667b3958ed02",
   "metadata": {},
   "source": [
    "Airline AI Assistance"
   ]
  },
  {
   "cell_type": "code",
   "execution_count": 1,
   "id": "d7065a10-d904-4bcd-bc04-440bdddece34",
   "metadata": {},
   "outputs": [],
   "source": [
    "import os\n",
    "import json\n",
    "from dotenv import load_dotenv\n",
    "from openai import OpenAI\n",
    "import gradio as gr"
   ]
  },
  {
   "cell_type": "code",
   "execution_count": 2,
   "id": "21b4b40d-4c4c-497f-a9d5-89dc7a370a6f",
   "metadata": {},
   "outputs": [
    {
     "name": "stdout",
     "output_type": "stream",
     "text": [
      "OpenAI API Key exists and begins sk-proj-\n"
     ]
    }
   ],
   "source": [
    "load_dotenv(override=True)\n",
    "\n",
    "openai_api_key = os.getenv('OPENAI_API_KEY')\n",
    "if openai_api_key:\n",
    "    print(f\"OpenAI API Key exists and begins {openai_api_key[:8]}\")\n",
    "else:\n",
    "    print(\"OpenAI API Key not set\")\n",
    "    \n",
    "MODEL = \"gpt-4o-mini\"\n",
    "openai = OpenAI()"
   ]
  },
  {
   "cell_type": "code",
   "execution_count": 3,
   "id": "6809cbe7-1690-4c56-ad20-ba28c9a14e28",
   "metadata": {},
   "outputs": [
    {
     "name": "stdout",
     "output_type": "stream",
     "text": [
      "* Running on local URL:  http://127.0.0.1:7860\n",
      "\n",
      "To create a public link, set `share=True` in `launch()`.\n"
     ]
    },
    {
     "data": {
      "text/html": [
       "<div><iframe src=\"http://127.0.0.1:7860/\" width=\"100%\" height=\"500\" allow=\"autoplay; camera; microphone; clipboard-read; clipboard-write;\" frameborder=\"0\" allowfullscreen></iframe></div>"
      ],
      "text/plain": [
       "<IPython.core.display.HTML object>"
      ]
     },
     "metadata": {},
     "output_type": "display_data"
    },
    {
     "data": {
      "text/plain": []
     },
     "execution_count": 3,
     "metadata": {},
     "output_type": "execute_result"
    }
   ],
   "source": [
    "system_message = \"You are a helpful assistant for an Airline called FlightAI. \"\n",
    "system_message += \"Give short, courteous answers, no more than 1 sentence. \"\n",
    "system_message += \"Always be accurate. If you don't know the answer, say so.\"\n",
    "def chat(message, history):\n",
    "    messages = [{\"role\": \"system\", \"content\": system_message}] + history + [{\"role\": \"user\", \"content\": message}]\n",
    "    response = openai.chat.completions.create(model=MODEL, messages=messages)\n",
    "    return response.choices[0].message.content\n",
    "\n",
    "gr.ChatInterface(fn=chat, type=\"messages\").launch()"
   ]
  },
  {
   "cell_type": "code",
   "execution_count": 4,
   "id": "b46b741e-b47a-43b8-810b-c9db0f697552",
   "metadata": {},
   "outputs": [
    {
     "name": "stdout",
     "output_type": "stream",
     "text": [
      "Tool get_ticket_price called for Berlin\n"
     ]
    },
    {
     "data": {
      "text/plain": [
       "'$499'"
      ]
     },
     "execution_count": 4,
     "metadata": {},
     "output_type": "execute_result"
    }
   ],
   "source": [
    "ticket_prices = {\"london\": \"$799\", \"paris\": \"$899\", \"tokyo\": \"$1400\", \"berlin\": \"$499\"}\n",
    "\n",
    "def get_ticket_price(destination_city):\n",
    "    print(f\"Tool get_ticket_price called for {destination_city}\")\n",
    "    city = destination_city.lower()\n",
    "    return ticket_prices.get(city, \"Unknown\")\n",
    "get_ticket_price(\"Berlin\")"
   ]
  },
  {
   "cell_type": "code",
   "execution_count": 5,
   "id": "f8fa7bc3-3d60-4f9e-acf7-8ced6c39aa5c",
   "metadata": {},
   "outputs": [],
   "source": [
    "price_function = {\n",
    "    \"name\": \"get_ticket_price\",\n",
    "    \"description\": \"Get the price of a return ticket to the destination city. Call this whenever you need to know the ticket price, for example when a customer asks 'How much is a ticket to this city'\",\n",
    "    \"parameters\": {\n",
    "        \"type\": \"object\",\n",
    "        \"properties\": {\n",
    "            \"destination_city\": {\n",
    "                \"type\": \"string\",\n",
    "                \"description\": \"The city that the customer wants to travel to\",\n",
    "            },\n",
    "        },\n",
    "        \"required\": [\"destination_city\"],\n",
    "        \"additionalProperties\": False\n",
    "    }\n",
    "}"
   ]
  },
  {
   "cell_type": "code",
   "execution_count": 6,
   "id": "57f4803c-db23-4578-be3a-8645b8ffd320",
   "metadata": {},
   "outputs": [],
   "source": [
    "# And this is included in a list of tools:\n",
    "\n",
    "tools = [{\"type\": \"function\", \"function\": price_function}]"
   ]
  },
  {
   "cell_type": "code",
   "execution_count": 7,
   "id": "4d50c3ee-4439-4209-aaf9-1894547efe2e",
   "metadata": {},
   "outputs": [],
   "source": [
    "def chat(message, history):\n",
    "    messages = [{\"role\": \"system\", \"content\": system_message}] + history + [{\"role\": \"user\", \"content\": message}]\n",
    "    response = openai.chat.completions.create(model=MODEL, messages=messages, tools=tools)\n",
    "\n",
    "    if response.choices[0].finish_reason==\"tool_calls\":\n",
    "        message = response.choices[0].message\n",
    "        response, city = handle_tool_call(message)\n",
    "        messages.append(message)\n",
    "        messages.append(response)\n",
    "        response = openai.chat.completions.create(model=MODEL, messages=messages)\n",
    "    \n",
    "    return response.choices[0].message.content"
   ]
  },
  {
   "cell_type": "code",
   "execution_count": 8,
   "id": "5673cd43-b28b-479c-b382-6508b2a1a440",
   "metadata": {},
   "outputs": [],
   "source": [
    "def handle_tool_call(message):\n",
    "    tool_call = message.tool_calls[0]\n",
    "    arguments = json.loads(tool_call.function.arguments)\n",
    "    city = arguments.get('destination_city')\n",
    "    price = get_ticket_price(city)\n",
    "    response = {\n",
    "        \"role\": \"tool\",\n",
    "        \"content\": json.dumps({\"destination_city\": city,\"price\": price}),\n",
    "        \"tool_call_id\": tool_call.id\n",
    "    }\n",
    "    return response, city"
   ]
  },
  {
   "cell_type": "code",
   "execution_count": 9,
   "id": "517477b0-9b7a-4a1e-8ceb-360172374729",
   "metadata": {},
   "outputs": [
    {
     "name": "stdout",
     "output_type": "stream",
     "text": [
      "* Running on local URL:  http://127.0.0.1:7861\n",
      "\n",
      "To create a public link, set `share=True` in `launch()`.\n"
     ]
    },
    {
     "data": {
      "text/html": [
       "<div><iframe src=\"http://127.0.0.1:7861/\" width=\"100%\" height=\"500\" allow=\"autoplay; camera; microphone; clipboard-read; clipboard-write;\" frameborder=\"0\" allowfullscreen></iframe></div>"
      ],
      "text/plain": [
       "<IPython.core.display.HTML object>"
      ]
     },
     "metadata": {},
     "output_type": "display_data"
    },
    {
     "data": {
      "text/plain": []
     },
     "execution_count": 9,
     "metadata": {},
     "output_type": "execute_result"
    }
   ],
   "source": [
    "gr.ChatInterface(fn=chat, type=\"messages\").launch()"
   ]
  },
  {
   "cell_type": "code",
   "execution_count": 10,
   "id": "aa5a29f1-774c-4f45-b3c4-6e60cf271ec7",
   "metadata": {},
   "outputs": [],
   "source": [
    "import base64\n",
    "from io import BytesIO\n",
    "from PIL import Image"
   ]
  },
  {
   "cell_type": "code",
   "execution_count": 11,
   "id": "f34331d7-6ab8-4566-b4af-2e190004b5f9",
   "metadata": {},
   "outputs": [],
   "source": [
    "def artist(city):\n",
    "    image_response = openai.images.generate(\n",
    "            model=\"dall-e-3\",\n",
    "            prompt=f\"An image representing a vacation in {city}, showing tourist spots and everything unique about {city}, in a vibrant pop-art style\",\n",
    "            size=\"1024x1024\",\n",
    "            n=1,\n",
    "            response_format=\"b64_json\",\n",
    "        )\n",
    "    image_base64 = image_response.data[0].b64_json\n",
    "    image_data = base64.b64decode(image_base64)\n",
    "    return Image.open(BytesIO(image_data))"
   ]
  },
  {
   "cell_type": "markdown",
   "id": "1201c7a0-1c8a-4990-845a-aa5cb2dc45a4",
   "metadata": {},
   "source": [
    "image = artist(\"New York City\")\n",
    "display(image)"
   ]
  },
  {
   "cell_type": "code",
   "execution_count": 12,
   "id": "b6b0839d-9ec9-4243-a039-bb446194a31e",
   "metadata": {},
   "outputs": [
    {
     "name": "stdout",
     "output_type": "stream",
     "text": [
      "ffmpeg version 2025-07-28-git-dc8e753f32-full_build-www.gyan.dev Copyright (c) 2000-2025 the FFmpeg developers\n",
      "built with gcc 15.1.0 (Rev6, Built by MSYS2 project)\n",
      "configuration: --enable-gpl --enable-version3 --enable-static --disable-w32threads --disable-autodetect --enable-fontconfig --enable-iconv --enable-gnutls --enable-lcms2 --enable-libxml2 --enable-gmp --enable-bzlib --enable-lzma --enable-libsnappy --enable-zlib --enable-librist --enable-libsrt --enable-libssh --enable-libzmq --enable-avisynth --enable-libbluray --enable-libcaca --enable-libdvdnav --enable-libdvdread --enable-sdl2 --enable-libaribb24 --enable-libaribcaption --enable-libdav1d --enable-libdavs2 --enable-libopenjpeg --enable-libquirc --enable-libuavs3d --enable-libxevd --enable-libzvbi --enable-liboapv --enable-libqrencode --enable-librav1e --enable-libsvtav1 --enable-libvvenc --enable-libwebp --enable-libx264 --enable-libx265 --enable-libxavs2 --enable-libxeve --enable-libxvid --enable-libaom --enable-libjxl --enable-libvpx --enable-mediafoundation --enable-libass --enable-frei0r --enable-libfreetype --enable-libfribidi --enable-libharfbuzz --enable-liblensfun --enable-libvidstab --enable-libvmaf --enable-libzimg --enable-amf --enable-cuda-llvm --enable-cuvid --enable-dxva2 --enable-d3d11va --enable-d3d12va --enable-ffnvcodec --enable-libvpl --enable-nvdec --enable-nvenc --enable-vaapi --enable-libshaderc --enable-vulkan --enable-libplacebo --enable-opencl --enable-libcdio --enable-openal --enable-libgme --enable-libmodplug --enable-libopenmpt --enable-libopencore-amrwb --enable-libmp3lame --enable-libshine --enable-libtheora --enable-libtwolame --enable-libvo-amrwbenc --enable-libcodec2 --enable-libilbc --enable-libgsm --enable-liblc3 --enable-libopencore-amrnb --enable-libopus --enable-libspeex --enable-libvorbis --enable-ladspa --enable-libbs2b --enable-libflite --enable-libmysofa --enable-librubberband --enable-libsoxr --enable-chromaprint\n",
      "libavutil      60.  6.100 / 60.  6.100\n",
      "libavcodec     62.  8.100 / 62.  8.100\n",
      "libavformat    62.  1.103 / 62.  1.103\n",
      "libavdevice    62.  0.100 / 62.  0.100\n",
      "libavfilter    11.  3.100 / 11.  3.100\n",
      "libswscale      9.  0.100 /  9.  0.100\n",
      "libswresample   6.  0.100 /  6.  0.100\n",
      "\n",
      "Exiting with exit code 0\n",
      "ffprobe version 2025-07-28-git-dc8e753f32-full_build-www.gyan.dev Copyright (c) 2007-2025 the FFmpeg developers\n",
      "built with gcc 15.1.0 (Rev6, Built by MSYS2 project)\n",
      "configuration: --enable-gpl --enable-version3 --enable-static --disable-w32threads --disable-autodetect --enable-fontconfig --enable-iconv --enable-gnutls --enable-lcms2 --enable-libxml2 --enable-gmp --enable-bzlib --enable-lzma --enable-libsnappy --enable-zlib --enable-librist --enable-libsrt --enable-libssh --enable-libzmq --enable-avisynth --enable-libbluray --enable-libcaca --enable-libdvdnav --enable-libdvdread --enable-sdl2 --enable-libaribb24 --enable-libaribcaption --enable-libdav1d --enable-libdavs2 --enable-libopenjpeg --enable-libquirc --enable-libuavs3d --enable-libxevd --enable-libzvbi --enable-liboapv --enable-libqrencode --enable-librav1e --enable-libsvtav1 --enable-libvvenc --enable-libwebp --enable-libx264 --enable-libx265 --enable-libxavs2 --enable-libxeve --enable-libxvid --enable-libaom --enable-libjxl --enable-libvpx --enable-mediafoundation --enable-libass --enable-frei0r --enable-libfreetype --enable-libfribidi --enable-libharfbuzz --enable-liblensfun --enable-libvidstab --enable-libvmaf --enable-libzimg --enable-amf --enable-cuda-llvm --enable-cuvid --enable-dxva2 --enable-d3d11va --enable-d3d12va --enable-ffnvcodec --enable-libvpl --enable-nvdec --enable-nvenc --enable-vaapi --enable-libshaderc --enable-vulkan --enable-libplacebo --enable-opencl --enable-libcdio --enable-openal --enable-libgme --enable-libmodplug --enable-libopenmpt --enable-libopencore-amrwb --enable-libmp3lame --enable-libshine --enable-libtheora --enable-libtwolame --enable-libvo-amrwbenc --enable-libcodec2 --enable-libilbc --enable-libgsm --enable-liblc3 --enable-libopencore-amrnb --enable-libopus --enable-libspeex --enable-libvorbis --enable-ladspa --enable-libbs2b --enable-libflite --enable-libmysofa --enable-librubberband --enable-libsoxr --enable-chromaprint\n",
      "libavutil      60.  6.100 / 60.  6.100\n",
      "libavcodec     62.  8.100 / 62.  8.100\n",
      "libavformat    62.  1.103 / 62.  1.103\n",
      "libavdevice    62.  0.100 / 62.  0.100\n",
      "libavfilter    11.  3.100 / 11.  3.100\n",
      "libswscale      9.  0.100 /  9.  0.100\n",
      "libswresample   6.  0.100 /  6.  0.100\n",
      "ffplay version 2025-07-28-git-dc8e753f32-full_build-www.gyan.dev Copyright (c) 2003-2025 the FFmpeg developers\n",
      "built with gcc 15.1.0 (Rev6, Built by MSYS2 project)\n",
      "configuration: --enable-gpl --enable-version3 --enable-static --disable-w32threads --disable-autodetect --enable-fontconfig --enable-iconv --enable-gnutls --enable-lcms2 --enable-libxml2 --enable-gmp --enable-bzlib --enable-lzma --enable-libsnappy --enable-zlib --enable-librist --enable-libsrt --enable-libssh --enable-libzmq --enable-avisynth --enable-libbluray --enable-libcaca --enable-libdvdnav --enable-libdvdread --enable-sdl2 --enable-libaribb24 --enable-libaribcaption --enable-libdav1d --enable-libdavs2 --enable-libopenjpeg --enable-libquirc --enable-libuavs3d --enable-libxevd --enable-libzvbi --enable-liboapv --enable-libqrencode --enable-librav1e --enable-libsvtav1 --enable-libvvenc --enable-libwebp --enable-libx264 --enable-libx265 --enable-libxavs2 --enable-libxeve --enable-libxvid --enable-libaom --enable-libjxl --enable-libvpx --enable-mediafoundation --enable-libass --enable-frei0r --enable-libfreetype --enable-libfribidi --enable-libharfbuzz --enable-liblensfun --enable-libvidstab --enable-libvmaf --enable-libzimg --enable-amf --enable-cuda-llvm --enable-cuvid --enable-dxva2 --enable-d3d11va --enable-d3d12va --enable-ffnvcodec --enable-libvpl --enable-nvdec --enable-nvenc --enable-vaapi --enable-libshaderc --enable-vulkan --enable-libplacebo --enable-opencl --enable-libcdio --enable-openal --enable-libgme --enable-libmodplug --enable-libopenmpt --enable-libopencore-amrwb --enable-libmp3lame --enable-libshine --enable-libtheora --enable-libtwolame --enable-libvo-amrwbenc --enable-libcodec2 --enable-libilbc --enable-libgsm --enable-liblc3 --enable-libopencore-amrnb --enable-libopus --enable-libspeex --enable-libvorbis --enable-ladspa --enable-libbs2b --enable-libflite --enable-libmysofa --enable-librubberband --enable-libsoxr --enable-chromaprint\n",
      "libavutil      60.  6.100 / 60.  6.100\n",
      "libavcodec     62.  8.100 / 62.  8.100\n",
      "libavformat    62.  1.103 / 62.  1.103\n",
      "libavdevice    62.  0.100 / 62.  0.100\n",
      "libavfilter    11.  3.100 / 11.  3.100\n",
      "libswscale      9.  0.100 /  9.  0.100\n",
      "libswresample   6.  0.100 /  6.  0.100\n"
     ]
    }
   ],
   "source": [
    "!ffmpeg -version\n",
    "!ffprobe -version\n",
    "!ffplay -version"
   ]
  },
  {
   "cell_type": "code",
   "execution_count": 16,
   "id": "1df552b4-114f-45ec-9df2-812abb27f545",
   "metadata": {},
   "outputs": [
    {
     "data": {
      "text/html": [
       "\n",
       "                <audio  controls=\"controls\" autoplay=\"autoplay\">\n",
       "                    <source src=\"data:audio/mpeg;base64,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\" type=\"audio/mpeg\" />\n",
       "                    Your browser does not support the audio element.\n",
       "                </audio>\n",
       "              "
      ],
      "text/plain": [
       "<IPython.lib.display.Audio object>"
      ]
     },
     "metadata": {},
     "output_type": "display_data"
    }
   ],
   "source": [
    "import base64\n",
    "from io import BytesIO\n",
    "from PIL import Image\n",
    "from IPython.display import Audio, display\n",
    "\n",
    "def talker(message):\n",
    "    response = openai.audio.speech.create(\n",
    "        model=\"tts-1\",\n",
    "        voice=\"onyx\",\n",
    "        input=message)\n",
    "\n",
    "    audio_stream = BytesIO(response.content)\n",
    "    output_filename = \"output_audio.mp3\"\n",
    "    with open(output_filename, \"wb\") as f:\n",
    "        f.write(audio_stream.read())\n",
    "\n",
    "    # Play the generated audio\n",
    "    display(Audio(output_filename, autoplay=True))\n",
    "\n",
    "talker(\"Well, hi there\")"
   ]
  },
  {
   "cell_type": "code",
   "execution_count": 18,
   "id": "9f1b6e32-936b-41b4-a86c-fb15bec77e04",
   "metadata": {},
   "outputs": [],
   "source": [
    "import tempfile\n",
    "import subprocess\n",
    "from io import BytesIO\n",
    "from pydub import AudioSegment\n",
    "import time\n",
    "\n",
    "def play_audio(audio_segment):\n",
    "    temp_dir = tempfile.gettempdir()\n",
    "    temp_path = os.path.join(temp_dir, \"temp_audio.wav\")\n",
    "    try:\n",
    "        audio_segment.export(temp_path, format=\"wav\")\n",
    "        time.sleep(3) # Student Dominic found that this was needed. You could also try commenting out to see if not needed on your PC\n",
    "        subprocess.call([\n",
    "            \"ffplay\",\n",
    "            \"-nodisp\",\n",
    "            \"-autoexit\",\n",
    "            \"-hide_banner\",\n",
    "            temp_path\n",
    "        ], stdout=subprocess.DEVNULL, stderr=subprocess.DEVNULL)\n",
    "    finally:\n",
    "        try:\n",
    "            os.remove(temp_path)\n",
    "        except Exception:\n",
    "            pass\n",
    " \n",
    "def talker(message):\n",
    "    response = openai.audio.speech.create(\n",
    "        model=\"tts-1\",\n",
    "        voice=\"onyx\",  # Also, try replacing onyx with alloy\n",
    "        input=message\n",
    "    )\n",
    "    audio_stream = BytesIO(response.content)\n",
    "    audio = AudioSegment.from_file(audio_stream, format=\"mp3\")\n",
    "    play_audio(audio)\n",
    "\n",
    "talker(\"Well hi there\")"
   ]
  }
 ],
 "metadata": {
  "kernelspec": {
   "display_name": "Python 3 (ipykernel)",
   "language": "python",
   "name": "python3"
  },
  "language_info": {
   "codemirror_mode": {
    "name": "ipython",
    "version": 3
   },
   "file_extension": ".py",
   "mimetype": "text/x-python",
   "name": "python",
   "nbconvert_exporter": "python",
   "pygments_lexer": "ipython3",
   "version": "3.11.11"
  }
 },
 "nbformat": 4,
 "nbformat_minor": 5
}
